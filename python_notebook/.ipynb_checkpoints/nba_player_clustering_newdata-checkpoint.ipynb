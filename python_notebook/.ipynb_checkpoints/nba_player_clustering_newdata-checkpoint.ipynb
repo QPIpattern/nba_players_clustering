{
 "cells": [
  {
   "cell_type": "code",
   "execution_count": 1,
   "metadata": {
    "collapsed": false
   },
   "outputs": [],
   "source": [
    "import json\n",
    "import requests\n",
    "import pandas as pd\n",
    "import numpy as np"
   ]
  },
  {
   "cell_type": "code",
   "execution_count": 2,
   "metadata": {
    "collapsed": false
   },
   "outputs": [],
   "source": [
    "base_url = \"http://stats.nba.com/stats/leaguedashptstats\"\n",
    "season=\"2014-15\"\n",
    "season_type=\"Playoffs\"\n",
    "player_or_team=\"Player\"\n",
    "measure_type=\"CatchShoot\"\n",
    "parameters={\"Season\": season,\n",
    "            \"SeasonType\": season_type,\n",
    "            \"PlayerOrTeam\": player_or_team,\n",
    "             \"PtMeasureType\": measure_type\n",
    "            }\n",
    "data=requests.get(base_url,params=parameters)"
   ]
  },
  {
   "cell_type": "code",
   "execution_count": 3,
   "metadata": {
    "collapsed": true
   },
   "outputs": [],
   "source": [
    "USER_AGENT = \"Mozilla/5.0 (X11; Linux x86_64) AppleWebKit/537.36 (KHTML, like Gecko) Ubuntu Chromium/47.0.2526.73 Chrome/47.0.2526.73 Safari/537.36\"\n",
    "REFERER = \"http://stats.nba.com/scores/\""
   ]
  },
  {
   "cell_type": "code",
   "execution_count": 4,
   "metadata": {
    "collapsed": false
   },
   "outputs": [],
   "source": [
    "def get_sportvu_data_for_stat(season, season_type, player_or_team, measure_type, start_date=\"\", end_date=\"\", last_n_games=0, league_id=\"00\", month=0, opponent_team_id=0, por_round=0, per_mode=\"Totals\", team_id=0, outcome=\"\", location=\"\", season_segment=\"\", vs_conference=\"\", vs_division=\"\", game_scope=\"\", player_experience=\"\", player_position=\"\", starter_bench=\"\"):\n",
    "    parameters = {\n",
    "                    \"DateFrom\": start_date,\n",
    "                    \"DateTo\": end_date,\n",
    "                    \"PlayerOrTeam\": player_or_team,\n",
    "                    \"PtMeasureType\": measure_type,\n",
    "                    \"Season\": season,\n",
    "                    \"SeasonType\": season_type,\n",
    "                    \"LastNGames\": last_n_games,\n",
    "                    \"LeagueID\": league_id,\n",
    "                    \"Month\": month,\n",
    "                    \"OpponentTeamID\": opponent_team_id,\n",
    "                    \"PORound\": por_round,\n",
    "                    \"PerMode\": per_mode,\n",
    "                    \"TeamID\": team_id,\n",
    "                    \"Outcome\": outcome,\n",
    "                    \"Location\": location,\n",
    "                    \"SeasonSegment\": season_segment,\n",
    "                    \"VsConference\": vs_conference,\n",
    "                    \"VsDivision\": vs_division,\n",
    "                    \"GameScope\": game_scope,\n",
    "                    \"PlayerExperience\": player_experience,\n",
    "                    \"PlayerPosition\": player_position,\n",
    "                    \"StarterBench\": starter_bench\n",
    "    }\n",
    "    base_url = \"http://stats.nba.com/stats/leaguedashptstats\"\n",
    "    return get_data_from_url_with_parameters(base_url, parameters, 0)"
   ]
  },
  {
   "cell_type": "code",
   "execution_count": 5,
   "metadata": {
    "collapsed": false
   },
   "outputs": [],
   "source": [
    "def get_data_from_url_with_parameters(base_url, parameters, index):\n",
    "    measure_type=parameters[\"PtMeasureType\"]\n",
    "    response = requests.get(base_url, params=parameters, headers={'User-Agent': USER_AGENT, 'referer': REFERER})\n",
    "    data = response.json()\n",
    "    headers = data['resultSets'][index]['headers']\n",
    "    rows = data['resultSets'][index]['rowSet']\n",
    "    #return [dict(zip(headers, row)) for row in rows]\n",
    "    df = pd.DataFrame(rows)\n",
    "    df.columns = headers\n",
    "    df = df.set_index(['PLAYER_ID', 'TEAM_ABBREVIATION','PLAYER_NAME','TEAM_ID'])\n",
    "    df.columns = ['{}_{}'.format(measure_type, x) for x in df.columns]\n",
    "    return df"
   ]
  },
  {
   "cell_type": "code",
   "execution_count": 6,
   "metadata": {
    "collapsed": false
   },
   "outputs": [],
   "source": [
    "data=get_sportvu_data_for_stat(season=\"2014-15\",\n",
    "season_type=\"Regular Season\",\n",
    "player_or_team=\"Player\",\n",
    "measure_type=\"Rebounding\")"
   ]
  },
  {
   "cell_type": "code",
   "execution_count": 7,
   "metadata": {
    "collapsed": false
   },
   "outputs": [],
   "source": [
    "measures=[\"CatchShoot\", \n",
    "\"Defense\",\n",
    "\"Drives\",\n",
    "\"Passing\",\n",
    "\"PullUpShot\",\n",
    "\"Rebounding\",\n",
    "\"Efficiency\",\n",
    "\"SpeedDistance\",\n",
    "\"ElbowTouch\",\n",
    "\"PaintTouch\",\n",
    "\"PostTouch\",\n",
    "\"Possessions\"]"
   ]
  },
  {
   "cell_type": "code",
   "execution_count": 8,
   "metadata": {
    "collapsed": false
   },
   "outputs": [],
   "source": [
    "def sportvu_df(season, measure_types,season_type=\"Regular Season\",\n",
    "player_or_team=\"Player\"):\n",
    "    sportvu=None\n",
    "    for m in measure_types:\n",
    "        print(m)\n",
    "        input_df=get_sportvu_data_for_stat(season,\n",
    "        season_type,\n",
    "        player_or_team,\n",
    "        measure_type=m)\n",
    "        if sportvu is None:\n",
    "            sportvu = input_df\n",
    "        else:\n",
    "            sportvu = pd.merge(sportvu,\n",
    "                               input_df,\n",
    "                               how='inner',\n",
    "                               left_index=True,\n",
    "                               right_index=True)\n",
    "            print(sportvu.shape)\n",
    "    sportvu.to_csv('raw_{}'.format(season))\n",
    "    return sportvu"
   ]
  },
  {
   "cell_type": "code",
   "execution_count": 9,
   "metadata": {
    "collapsed": false
   },
   "outputs": [
    {
     "name": "stdout",
     "output_type": "stream",
     "text": [
      "CatchShoot\n",
      "Defense\n",
      "(492, 22)\n",
      "Drives\n",
      "(492, 43)\n",
      "Passing\n",
      "(492, 57)\n",
      "PullUpShot\n",
      "(492, 69)\n",
      "Rebounding\n",
      "(492, 100)\n",
      "Efficiency\n",
      "(492, 118)\n",
      "SpeedDistance\n",
      "(492, 129)\n",
      "ElbowTouch\n",
      "(492, 151)\n",
      "PaintTouch\n",
      "(492, 173)\n",
      "PostTouch\n",
      "(492, 195)\n",
      "Possessions\n",
      "(492, 212)\n"
     ]
    }
   ],
   "source": [
    "sportvu_data=sportvu_df(season='2014-15',measure_types=measures)"
   ]
  },
  {
   "cell_type": "code",
   "execution_count": null,
   "metadata": {
    "collapsed": false
   },
   "outputs": [],
   "source": []
  },
  {
   "cell_type": "code",
   "execution_count": null,
   "metadata": {
    "collapsed": false
   },
   "outputs": [],
   "source": [
    "\n",
    "    "
   ]
  },
  {
   "cell_type": "code",
   "execution_count": null,
   "metadata": {
    "collapsed": false
   },
   "outputs": [],
   "source": []
  },
  {
   "cell_type": "code",
   "execution_count": null,
   "metadata": {
    "collapsed": false
   },
   "outputs": [],
   "source": []
  },
  {
   "cell_type": "code",
   "execution_count": null,
   "metadata": {
    "collapsed": false
   },
   "outputs": [],
   "source": []
  },
  {
   "cell_type": "code",
   "execution_count": 40,
   "metadata": {
    "collapsed": false
   },
   "outputs": [],
   "source": [
    "season='2013-14'\n",
    "nba_data=pd.read_csv('raw_2013-14')"
   ]
  },
  {
   "cell_type": "code",
   "execution_count": 41,
   "metadata": {
    "collapsed": false
   },
   "outputs": [],
   "source": [
    "nba_data=nba_data.set_index(['PLAYER_ID', 'TEAM_ABBREVIATION','PLAYER_NAME','TEAM_ID'])"
   ]
  },
  {
   "cell_type": "code",
   "execution_count": 42,
   "metadata": {
    "collapsed": false
   },
   "outputs": [],
   "source": [
    "from sklearn.preprocessing import StandardScaler\n",
    "from sklearn.decomposition import TruncatedSVD\n",
    "from sklearn.cluster import KMeans\n",
    "from sklearn import (manifold,  decomposition, lda, random_projection)"
   ]
  },
  {
   "cell_type": "code",
   "execution_count": 39,
   "metadata": {
    "collapsed": true
   },
   "outputs": [],
   "source": [
    "player_names=[x[2] for x in nba_data.index]\n",
    "team_names=[x[1] for x in nba_data.index]"
   ]
  },
  {
   "cell_type": "code",
   "execution_count": 43,
   "metadata": {
    "collapsed": false
   },
   "outputs": [
    {
     "data": {
      "text/html": [
       "<div>\n",
       "<table border=\"1\" class=\"dataframe\">\n",
       "  <thead>\n",
       "    <tr style=\"text-align: right;\">\n",
       "      <th></th>\n",
       "      <th></th>\n",
       "      <th></th>\n",
       "      <th></th>\n",
       "      <th>CatchShoot_GP</th>\n",
       "      <th>CatchShoot_W</th>\n",
       "      <th>CatchShoot_L</th>\n",
       "      <th>CatchShoot_MIN</th>\n",
       "      <th>CatchShoot_CATCH_SHOOT_FGM</th>\n",
       "      <th>CatchShoot_CATCH_SHOOT_FGA</th>\n",
       "      <th>CatchShoot_CATCH_SHOOT_FG_PCT</th>\n",
       "      <th>CatchShoot_CATCH_SHOOT_PTS</th>\n",
       "      <th>CatchShoot_CATCH_SHOOT_FG3M</th>\n",
       "      <th>CatchShoot_CATCH_SHOOT_FG3A</th>\n",
       "      <th>...</th>\n",
       "      <th>Possessions_TIME_OF_POSS</th>\n",
       "      <th>Possessions_AVG_SEC_PER_TOUCH</th>\n",
       "      <th>Possessions_AVG_DRIB_PER_TOUCH</th>\n",
       "      <th>Possessions_PTS_PER_TOUCH</th>\n",
       "      <th>Possessions_ELBOW_TOUCHES</th>\n",
       "      <th>Possessions_POST_TOUCHES</th>\n",
       "      <th>Possessions_PAINT_TOUCHES</th>\n",
       "      <th>Possessions_PTS_PER_ELBOW_TOUCH</th>\n",
       "      <th>Possessions_PTS_PER_POST_TOUCH</th>\n",
       "      <th>Possessions_PTS_PER_PAINT_TOUCH</th>\n",
       "    </tr>\n",
       "    <tr>\n",
       "      <th>PLAYER_ID</th>\n",
       "      <th>TEAM_ABBREVIATION</th>\n",
       "      <th>PLAYER_NAME</th>\n",
       "      <th>TEAM_ID</th>\n",
       "      <th></th>\n",
       "      <th></th>\n",
       "      <th></th>\n",
       "      <th></th>\n",
       "      <th></th>\n",
       "      <th></th>\n",
       "      <th></th>\n",
       "      <th></th>\n",
       "      <th></th>\n",
       "      <th></th>\n",
       "      <th></th>\n",
       "      <th></th>\n",
       "      <th></th>\n",
       "      <th></th>\n",
       "      <th></th>\n",
       "      <th></th>\n",
       "      <th></th>\n",
       "      <th></th>\n",
       "      <th></th>\n",
       "      <th></th>\n",
       "      <th></th>\n",
       "    </tr>\n",
       "  </thead>\n",
       "  <tbody>\n",
       "    <tr>\n",
       "      <th>708</th>\n",
       "      <th>BKN</th>\n",
       "      <th>Kevin Garnett</th>\n",
       "      <th>1610612751</th>\n",
       "      <td>53</td>\n",
       "      <td>26</td>\n",
       "      <td>27</td>\n",
       "      <td>1090.0</td>\n",
       "      <td>63</td>\n",
       "      <td>131</td>\n",
       "      <td>0.481</td>\n",
       "      <td>126</td>\n",
       "      <td>0</td>\n",
       "      <td>2</td>\n",
       "      <td>...</td>\n",
       "      <td>45.8</td>\n",
       "      <td>1.19</td>\n",
       "      <td>0.24</td>\n",
       "      <td>0.147</td>\n",
       "      <td>210</td>\n",
       "      <td>137</td>\n",
       "      <td>116</td>\n",
       "      <td>0.143</td>\n",
       "      <td>0.657</td>\n",
       "      <td>0.741</td>\n",
       "    </tr>\n",
       "    <tr>\n",
       "      <th>951</th>\n",
       "      <th>MIA</th>\n",
       "      <th>Ray Allen</th>\n",
       "      <th>1610612748</th>\n",
       "      <td>73</td>\n",
       "      <td>47</td>\n",
       "      <td>26</td>\n",
       "      <td>1936.0</td>\n",
       "      <td>124</td>\n",
       "      <td>303</td>\n",
       "      <td>0.409</td>\n",
       "      <td>356</td>\n",
       "      <td>108</td>\n",
       "      <td>270</td>\n",
       "      <td>...</td>\n",
       "      <td>78.1</td>\n",
       "      <td>1.94</td>\n",
       "      <td>1.42</td>\n",
       "      <td>0.290</td>\n",
       "      <td>89</td>\n",
       "      <td>44</td>\n",
       "      <td>40</td>\n",
       "      <td>0.315</td>\n",
       "      <td>0.523</td>\n",
       "      <td>0.525</td>\n",
       "    </tr>\n",
       "    <tr>\n",
       "      <th>959</th>\n",
       "      <th>LAL</th>\n",
       "      <th>Steve Nash</th>\n",
       "      <th>1610612747</th>\n",
       "      <td>15</td>\n",
       "      <td>4</td>\n",
       "      <td>11</td>\n",
       "      <td>313.0</td>\n",
       "      <td>7</td>\n",
       "      <td>16</td>\n",
       "      <td>0.438</td>\n",
       "      <td>20</td>\n",
       "      <td>6</td>\n",
       "      <td>13</td>\n",
       "      <td>...</td>\n",
       "      <td>60.5</td>\n",
       "      <td>4.57</td>\n",
       "      <td>5.21</td>\n",
       "      <td>0.128</td>\n",
       "      <td>9</td>\n",
       "      <td>3</td>\n",
       "      <td>3</td>\n",
       "      <td>0.000</td>\n",
       "      <td>0.667</td>\n",
       "      <td>0.667</td>\n",
       "    </tr>\n",
       "    <tr>\n",
       "      <th>965</th>\n",
       "      <th>OKC</th>\n",
       "      <th>Derek Fisher</th>\n",
       "      <th>1610612760</th>\n",
       "      <td>81</td>\n",
       "      <td>59</td>\n",
       "      <td>22</td>\n",
       "      <td>1428.0</td>\n",
       "      <td>70</td>\n",
       "      <td>166</td>\n",
       "      <td>0.422</td>\n",
       "      <td>200</td>\n",
       "      <td>60</td>\n",
       "      <td>148</td>\n",
       "      <td>...</td>\n",
       "      <td>122.2</td>\n",
       "      <td>3.37</td>\n",
       "      <td>3.25</td>\n",
       "      <td>0.196</td>\n",
       "      <td>114</td>\n",
       "      <td>11</td>\n",
       "      <td>9</td>\n",
       "      <td>0.184</td>\n",
       "      <td>0.364</td>\n",
       "      <td>0.444</td>\n",
       "    </tr>\n",
       "    <tr>\n",
       "      <th>977</th>\n",
       "      <th>LAL</th>\n",
       "      <th>Kobe Bryant</th>\n",
       "      <th>1610612747</th>\n",
       "      <td>6</td>\n",
       "      <td>2</td>\n",
       "      <td>4</td>\n",
       "      <td>177.0</td>\n",
       "      <td>2</td>\n",
       "      <td>10</td>\n",
       "      <td>0.200</td>\n",
       "      <td>5</td>\n",
       "      <td>1</td>\n",
       "      <td>8</td>\n",
       "      <td>...</td>\n",
       "      <td>33.9</td>\n",
       "      <td>4.39</td>\n",
       "      <td>3.77</td>\n",
       "      <td>0.179</td>\n",
       "      <td>31</td>\n",
       "      <td>6</td>\n",
       "      <td>6</td>\n",
       "      <td>0.387</td>\n",
       "      <td>0.000</td>\n",
       "      <td>0.667</td>\n",
       "    </tr>\n",
       "  </tbody>\n",
       "</table>\n",
       "<p>5 rows × 212 columns</p>\n",
       "</div>"
      ],
      "text/plain": [
       "                                                      CatchShoot_GP  \\\n",
       "PLAYER_ID TEAM_ABBREVIATION PLAYER_NAME   TEAM_ID                     \n",
       "708       BKN               Kevin Garnett 1610612751             53   \n",
       "951       MIA               Ray Allen     1610612748             73   \n",
       "959       LAL               Steve Nash    1610612747             15   \n",
       "965       OKC               Derek Fisher  1610612760             81   \n",
       "977       LAL               Kobe Bryant   1610612747              6   \n",
       "\n",
       "                                                      CatchShoot_W  \\\n",
       "PLAYER_ID TEAM_ABBREVIATION PLAYER_NAME   TEAM_ID                    \n",
       "708       BKN               Kevin Garnett 1610612751            26   \n",
       "951       MIA               Ray Allen     1610612748            47   \n",
       "959       LAL               Steve Nash    1610612747             4   \n",
       "965       OKC               Derek Fisher  1610612760            59   \n",
       "977       LAL               Kobe Bryant   1610612747             2   \n",
       "\n",
       "                                                      CatchShoot_L  \\\n",
       "PLAYER_ID TEAM_ABBREVIATION PLAYER_NAME   TEAM_ID                    \n",
       "708       BKN               Kevin Garnett 1610612751            27   \n",
       "951       MIA               Ray Allen     1610612748            26   \n",
       "959       LAL               Steve Nash    1610612747            11   \n",
       "965       OKC               Derek Fisher  1610612760            22   \n",
       "977       LAL               Kobe Bryant   1610612747             4   \n",
       "\n",
       "                                                      CatchShoot_MIN  \\\n",
       "PLAYER_ID TEAM_ABBREVIATION PLAYER_NAME   TEAM_ID                      \n",
       "708       BKN               Kevin Garnett 1610612751          1090.0   \n",
       "951       MIA               Ray Allen     1610612748          1936.0   \n",
       "959       LAL               Steve Nash    1610612747           313.0   \n",
       "965       OKC               Derek Fisher  1610612760          1428.0   \n",
       "977       LAL               Kobe Bryant   1610612747           177.0   \n",
       "\n",
       "                                                      CatchShoot_CATCH_SHOOT_FGM  \\\n",
       "PLAYER_ID TEAM_ABBREVIATION PLAYER_NAME   TEAM_ID                                  \n",
       "708       BKN               Kevin Garnett 1610612751                          63   \n",
       "951       MIA               Ray Allen     1610612748                         124   \n",
       "959       LAL               Steve Nash    1610612747                           7   \n",
       "965       OKC               Derek Fisher  1610612760                          70   \n",
       "977       LAL               Kobe Bryant   1610612747                           2   \n",
       "\n",
       "                                                      CatchShoot_CATCH_SHOOT_FGA  \\\n",
       "PLAYER_ID TEAM_ABBREVIATION PLAYER_NAME   TEAM_ID                                  \n",
       "708       BKN               Kevin Garnett 1610612751                         131   \n",
       "951       MIA               Ray Allen     1610612748                         303   \n",
       "959       LAL               Steve Nash    1610612747                          16   \n",
       "965       OKC               Derek Fisher  1610612760                         166   \n",
       "977       LAL               Kobe Bryant   1610612747                          10   \n",
       "\n",
       "                                                      CatchShoot_CATCH_SHOOT_FG_PCT  \\\n",
       "PLAYER_ID TEAM_ABBREVIATION PLAYER_NAME   TEAM_ID                                     \n",
       "708       BKN               Kevin Garnett 1610612751                          0.481   \n",
       "951       MIA               Ray Allen     1610612748                          0.409   \n",
       "959       LAL               Steve Nash    1610612747                          0.438   \n",
       "965       OKC               Derek Fisher  1610612760                          0.422   \n",
       "977       LAL               Kobe Bryant   1610612747                          0.200   \n",
       "\n",
       "                                                      CatchShoot_CATCH_SHOOT_PTS  \\\n",
       "PLAYER_ID TEAM_ABBREVIATION PLAYER_NAME   TEAM_ID                                  \n",
       "708       BKN               Kevin Garnett 1610612751                         126   \n",
       "951       MIA               Ray Allen     1610612748                         356   \n",
       "959       LAL               Steve Nash    1610612747                          20   \n",
       "965       OKC               Derek Fisher  1610612760                         200   \n",
       "977       LAL               Kobe Bryant   1610612747                           5   \n",
       "\n",
       "                                                      CatchShoot_CATCH_SHOOT_FG3M  \\\n",
       "PLAYER_ID TEAM_ABBREVIATION PLAYER_NAME   TEAM_ID                                   \n",
       "708       BKN               Kevin Garnett 1610612751                            0   \n",
       "951       MIA               Ray Allen     1610612748                          108   \n",
       "959       LAL               Steve Nash    1610612747                            6   \n",
       "965       OKC               Derek Fisher  1610612760                           60   \n",
       "977       LAL               Kobe Bryant   1610612747                            1   \n",
       "\n",
       "                                                      CatchShoot_CATCH_SHOOT_FG3A  \\\n",
       "PLAYER_ID TEAM_ABBREVIATION PLAYER_NAME   TEAM_ID                                   \n",
       "708       BKN               Kevin Garnett 1610612751                            2   \n",
       "951       MIA               Ray Allen     1610612748                          270   \n",
       "959       LAL               Steve Nash    1610612747                           13   \n",
       "965       OKC               Derek Fisher  1610612760                          148   \n",
       "977       LAL               Kobe Bryant   1610612747                            8   \n",
       "\n",
       "                                                                   ...                 \\\n",
       "PLAYER_ID TEAM_ABBREVIATION PLAYER_NAME   TEAM_ID                  ...                  \n",
       "708       BKN               Kevin Garnett 1610612751               ...                  \n",
       "951       MIA               Ray Allen     1610612748               ...                  \n",
       "959       LAL               Steve Nash    1610612747               ...                  \n",
       "965       OKC               Derek Fisher  1610612760               ...                  \n",
       "977       LAL               Kobe Bryant   1610612747               ...                  \n",
       "\n",
       "                                                      Possessions_TIME_OF_POSS  \\\n",
       "PLAYER_ID TEAM_ABBREVIATION PLAYER_NAME   TEAM_ID                                \n",
       "708       BKN               Kevin Garnett 1610612751                      45.8   \n",
       "951       MIA               Ray Allen     1610612748                      78.1   \n",
       "959       LAL               Steve Nash    1610612747                      60.5   \n",
       "965       OKC               Derek Fisher  1610612760                     122.2   \n",
       "977       LAL               Kobe Bryant   1610612747                      33.9   \n",
       "\n",
       "                                                      Possessions_AVG_SEC_PER_TOUCH  \\\n",
       "PLAYER_ID TEAM_ABBREVIATION PLAYER_NAME   TEAM_ID                                     \n",
       "708       BKN               Kevin Garnett 1610612751                           1.19   \n",
       "951       MIA               Ray Allen     1610612748                           1.94   \n",
       "959       LAL               Steve Nash    1610612747                           4.57   \n",
       "965       OKC               Derek Fisher  1610612760                           3.37   \n",
       "977       LAL               Kobe Bryant   1610612747                           4.39   \n",
       "\n",
       "                                                      Possessions_AVG_DRIB_PER_TOUCH  \\\n",
       "PLAYER_ID TEAM_ABBREVIATION PLAYER_NAME   TEAM_ID                                      \n",
       "708       BKN               Kevin Garnett 1610612751                            0.24   \n",
       "951       MIA               Ray Allen     1610612748                            1.42   \n",
       "959       LAL               Steve Nash    1610612747                            5.21   \n",
       "965       OKC               Derek Fisher  1610612760                            3.25   \n",
       "977       LAL               Kobe Bryant   1610612747                            3.77   \n",
       "\n",
       "                                                      Possessions_PTS_PER_TOUCH  \\\n",
       "PLAYER_ID TEAM_ABBREVIATION PLAYER_NAME   TEAM_ID                                 \n",
       "708       BKN               Kevin Garnett 1610612751                      0.147   \n",
       "951       MIA               Ray Allen     1610612748                      0.290   \n",
       "959       LAL               Steve Nash    1610612747                      0.128   \n",
       "965       OKC               Derek Fisher  1610612760                      0.196   \n",
       "977       LAL               Kobe Bryant   1610612747                      0.179   \n",
       "\n",
       "                                                      Possessions_ELBOW_TOUCHES  \\\n",
       "PLAYER_ID TEAM_ABBREVIATION PLAYER_NAME   TEAM_ID                                 \n",
       "708       BKN               Kevin Garnett 1610612751                        210   \n",
       "951       MIA               Ray Allen     1610612748                         89   \n",
       "959       LAL               Steve Nash    1610612747                          9   \n",
       "965       OKC               Derek Fisher  1610612760                        114   \n",
       "977       LAL               Kobe Bryant   1610612747                         31   \n",
       "\n",
       "                                                      Possessions_POST_TOUCHES  \\\n",
       "PLAYER_ID TEAM_ABBREVIATION PLAYER_NAME   TEAM_ID                                \n",
       "708       BKN               Kevin Garnett 1610612751                       137   \n",
       "951       MIA               Ray Allen     1610612748                        44   \n",
       "959       LAL               Steve Nash    1610612747                         3   \n",
       "965       OKC               Derek Fisher  1610612760                        11   \n",
       "977       LAL               Kobe Bryant   1610612747                         6   \n",
       "\n",
       "                                                      Possessions_PAINT_TOUCHES  \\\n",
       "PLAYER_ID TEAM_ABBREVIATION PLAYER_NAME   TEAM_ID                                 \n",
       "708       BKN               Kevin Garnett 1610612751                        116   \n",
       "951       MIA               Ray Allen     1610612748                         40   \n",
       "959       LAL               Steve Nash    1610612747                          3   \n",
       "965       OKC               Derek Fisher  1610612760                          9   \n",
       "977       LAL               Kobe Bryant   1610612747                          6   \n",
       "\n",
       "                                                      Possessions_PTS_PER_ELBOW_TOUCH  \\\n",
       "PLAYER_ID TEAM_ABBREVIATION PLAYER_NAME   TEAM_ID                                       \n",
       "708       BKN               Kevin Garnett 1610612751                            0.143   \n",
       "951       MIA               Ray Allen     1610612748                            0.315   \n",
       "959       LAL               Steve Nash    1610612747                            0.000   \n",
       "965       OKC               Derek Fisher  1610612760                            0.184   \n",
       "977       LAL               Kobe Bryant   1610612747                            0.387   \n",
       "\n",
       "                                                      Possessions_PTS_PER_POST_TOUCH  \\\n",
       "PLAYER_ID TEAM_ABBREVIATION PLAYER_NAME   TEAM_ID                                      \n",
       "708       BKN               Kevin Garnett 1610612751                           0.657   \n",
       "951       MIA               Ray Allen     1610612748                           0.523   \n",
       "959       LAL               Steve Nash    1610612747                           0.667   \n",
       "965       OKC               Derek Fisher  1610612760                           0.364   \n",
       "977       LAL               Kobe Bryant   1610612747                           0.000   \n",
       "\n",
       "                                                      Possessions_PTS_PER_PAINT_TOUCH  \n",
       "PLAYER_ID TEAM_ABBREVIATION PLAYER_NAME   TEAM_ID                                      \n",
       "708       BKN               Kevin Garnett 1610612751                            0.741  \n",
       "951       MIA               Ray Allen     1610612748                            0.525  \n",
       "959       LAL               Steve Nash    1610612747                            0.667  \n",
       "965       OKC               Derek Fisher  1610612760                            0.444  \n",
       "977       LAL               Kobe Bryant   1610612747                            0.667  \n",
       "\n",
       "[5 rows x 212 columns]"
      ]
     },
     "execution_count": 43,
     "metadata": {},
     "output_type": "execute_result"
    }
   ],
   "source": [
    "nba_data.head()"
   ]
  },
  {
   "cell_type": "code",
   "execution_count": 44,
   "metadata": {
    "collapsed": false
   },
   "outputs": [
    {
     "data": {
      "text/plain": [
       "(337, 212)"
      ]
     },
     "execution_count": 44,
     "metadata": {},
     "output_type": "execute_result"
    }
   ],
   "source": [
    "#nba_data=nba_data.fillna(nba_data.mean(skipna=True))\n",
    "#nba_data1=nba_data.convert_objects(convert_numeric=True)\n",
    "nba_data=nba_data[nba_data['CatchShoot_GP']>40]\n",
    "nba_data.shape"
   ]
  },
  {
   "cell_type": "code",
   "execution_count": 45,
   "metadata": {
    "collapsed": false
   },
   "outputs": [],
   "source": [
    "player_names=[x[2] for x in nba_data.index]\n",
    "team_names=[x[1] for x in nba_data.index]"
   ]
  },
  {
   "cell_type": "code",
   "execution_count": 46,
   "metadata": {
    "collapsed": true
   },
   "outputs": [],
   "source": [
    "scaler=StandardScaler()\n",
    "nba_data=scaler.fit_transform(nba_data)\n",
    "nba_data=pd.DataFrame(nba_data)"
   ]
  },
  {
   "cell_type": "code",
   "execution_count": 47,
   "metadata": {
    "collapsed": true
   },
   "outputs": [],
   "source": [
    "def clustering(data,year,k_clusters=7):\n",
    "      center_file=''.join([\"nba_centers_\",year,\".csv\"])\n",
    "      kmeans=KMeans(k_clusters).fit(data)\n",
    "      centers=kmeans.cluster_centers_\n",
    "      np.savetxt(center_file,centers)\n",
    "      return(kmeans)"
   ]
  },
  {
   "cell_type": "code",
   "execution_count": 48,
   "metadata": {
    "collapsed": false
   },
   "outputs": [
    {
     "name": "stdout",
     "output_type": "stream",
     "text": [
      "[t-SNE] Computing pairwise distances...\n",
      "[t-SNE] Computing 121 nearest neighbors...\n",
      "[t-SNE] Computed conditional probabilities for sample 337 / 337\n",
      "[t-SNE] Mean sigma: 2.176658\n",
      "[t-SNE] Iteration 25: error = 0.6946407, gradient norm = 0.0163737\n",
      "[t-SNE] Iteration 50: error = 0.7601568, gradient norm = 0.0179642\n",
      "[t-SNE] Iteration 75: error = 0.5878504, gradient norm = 0.0108830\n",
      "[t-SNE] Iteration 100: error = 0.8125876, gradient norm = 0.0166604\n",
      "[t-SNE] Error after 100 iterations with early exaggeration: 0.812588\n",
      "[t-SNE] Iteration 125: error = 0.5987321, gradient norm = 0.0106252\n",
      "[t-SNE] Iteration 150: error = 0.7731693, gradient norm = 0.0155650\n",
      "[t-SNE] Iteration 175: error = 1.4314015, gradient norm = 0.0254308\n",
      "[t-SNE] Iteration 175: did not make any progress during the last 30 episodes. Finished.\n",
      "[t-SNE] Error after 175 iterations: 1.431401\n"
     ]
    }
   ],
   "source": [
    "corr = nba_data.T.corr()\n",
    "X = corr.as_matrix()\n",
    "    \n",
    "X_reduced = TruncatedSVD(n_components=10, random_state=0).fit_transform(X)\n",
    "\n",
    "method='TSNE'\n",
    "year='2013-14'\n",
    "if(method=='TSNE'):\n",
    "    tsne = manifold.TSNE(n_components=2, perplexity=40, verbose=2)\n",
    "    X_tsne = tsne.fit_transform(X_reduced)\n",
    "#      \n",
    "kmeans=clustering(data=X_tsne,year=year,k_clusters=7)\n",
    "df_projected = pd.DataFrame(X_tsne)\n",
    "df_projected['player'] = player_names\n",
    "df_projected['team'] = team_names\n",
    "df_projected['cluster']=kmeans.labels_[0:df_projected.shape[0]]\n",
    "df_projected.columns = ['x', 'y', 'player', 'team','cluster']\n",
    "df_projected.to_csv('projected_2013-14', index=False)"
   ]
  },
  {
   "cell_type": "raw",
   "metadata": {},
   "source": [
    "# Draw the figure using R. "
   ]
  },
  {
   "cell_type": "code",
   "execution_count": 4,
   "metadata": {
    "collapsed": true
   },
   "outputs": [],
   "source": [
    "library(data.table) \n",
    "library(scatterD3) \n",
    "library(d3heatmap)\n",
    "library(ggplot2) \n",
    "library(ggrepel) \n",
    "library(htmlwidgets)\n",
    "\n",
    "file_path='projected_2013-14'\n",
    "similarity<- function(year){\n",
    "    print(file_path)\n",
    "    dt <- fread(file_path, header=TRUE) # an error arise if read_csv is useddt\n",
    "    dt=dt[team!='total']\n",
    "       \n",
    "    tooltips <- paste(\"<strong>\", dt$player,\"</strong><br /><strong>\", dt$team, \"</strong><br />\") \n",
    "    p <- scatterD3(x = dt$x, y = dt$y, lab = dt$player, col_var=dt$team, symbol_var=dt$cluters, point_opacity = 0.7, tooltip_text = tooltips, col_lab = \"Team\", symbol_lab = \"Cluster\", width=1000, height=1000) \n",
    "    saveWidget(p, paste('nba_player_similarity',year,'.html'))\n",
    "    print(paste(year,\"_saved\"))\n",
    "}\n",
    "\n"
   ]
  },
  {
   "cell_type": "code",
   "execution_count": 5,
   "metadata": {
    "collapsed": false
   },
   "outputs": [
    {
     "name": "stdout",
     "output_type": "stream",
     "text": [
      "[1] \"projected_2013-14\"\n",
      "[1] \"2013-14 _saved\"\n"
     ]
    }
   ],
   "source": [
    "similarity('2013-14')"
   ]
  },
  {
   "cell_type": "code",
   "execution_count": null,
   "metadata": {
    "collapsed": true
   },
   "outputs": [],
   "source": []
  }
 ],
 "metadata": {
  "anaconda-cloud": {},
  "kernelspec": {
   "display_name": "Python [conda root]",
   "language": "python",
   "name": "conda-root-py"
  },
  "language_info": {
   "codemirror_mode": {
    "name": "ipython",
    "version": 3
   },
   "file_extension": ".py",
   "mimetype": "text/x-python",
   "name": "python",
   "nbconvert_exporter": "python",
   "pygments_lexer": "ipython3",
   "version": "3.5.2"
  }
 },
 "nbformat": 4,
 "nbformat_minor": 1
}
