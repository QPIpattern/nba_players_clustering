{
 "cells": [
  {
   "cell_type": "code",
   "execution_count": 2,
   "metadata": {
    "collapsed": true
   },
   "outputs": [],
   "source": [
    "import pandas as pd\n",
    "import numpy as np"
   ]
  },
  {
   "cell_type": "code",
   "execution_count": 9,
   "metadata": {
    "collapsed": true
   },
   "outputs": [],
   "source": [
    "data_raw=pd.read_csv('raw_2014-15')\n",
    "data_projected=pd.read_csv('projected_2014-15')\n",
    "data_projected['cluters']=data_projected['cluters'].astype('category')"
   ]
  },
  {
   "cell_type": "code",
   "execution_count": 12,
   "metadata": {
    "collapsed": false
   },
   "outputs": [],
   "source": [
    "cols=data_raw.columns.tolist()"
   ]
  },
  {
   "cell_type": "code",
   "execution_count": 17,
   "metadata": {
    "collapsed": false
   },
   "outputs": [
    {
     "data": {
      "text/plain": [
       "PLAYER_ID                                201166\n",
       "TEAM_ABBREVIATION                           CHI\n",
       "PLAYER_NAME                        Aaron Brooks\n",
       "TEAM_ID                              1610612741\n",
       "CatchShoot_GP                                82\n",
       "CatchShoot_W                                 50\n",
       "CatchShoot_L                                 32\n",
       "CatchShoot_MIN                             1885\n",
       "CatchShoot_CATCH_SHOOT_FGM                   62\n",
       "CatchShoot_CATCH_SHOOT_FGA                  154\n",
       "CatchShoot_CATCH_SHOOT_FG_PCT             0.403\n",
       "CatchShoot_CATCH_SHOOT_PTS                  183\n",
       "CatchShoot_CATCH_SHOOT_FG3M                  59\n",
       "CatchShoot_CATCH_SHOOT_FG3A                 146\n",
       "CatchShoot_CATCH_SHOOT_FG3_PCT            0.404\n",
       "CatchShoot_CATCH_SHOOT_EFG_PCT            0.594\n",
       "Defense_GP                                   82\n",
       "Defense_W                                    50\n",
       "Defense_L                                    32\n",
       "Defense_MIN                                1885\n",
       "Defense_STL                                  54\n",
       "Defense_BLK                                  15\n",
       "Defense_DREB                                134\n",
       "Defense_DEF_RIM_FGM                          40\n",
       "Defense_DEF_RIM_FGA                          71\n",
       "Defense_DEF_RIM_FG_PCT                    0.563\n",
       "Drives_GP                                    82\n",
       "Drives_W                                     50\n",
       "Drives_L                                     32\n",
       "Drives_MIN                                 1885\n",
       "                                       ...     \n",
       "PostTouch_POST_TOUCH_FTM                      1\n",
       "PostTouch_POST_TOUCH_FTA                      2\n",
       "PostTouch_POST_TOUCH_FT_PCT                 0.5\n",
       "PostTouch_POST_TOUCH_PTS                      6\n",
       "PostTouch_POST_TOUCH_PTS_PCT              0.316\n",
       "PostTouch_POST_TOUCH_PASSES                  10\n",
       "PostTouch_POST_TOUCH_PASSES_PCT           0.526\n",
       "PostTouch_POST_TOUCH_AST                      1\n",
       "PostTouch_POST_TOUCH_AST_PCT              0.053\n",
       "PostTouch_POST_TOUCH_TOV                      2\n",
       "PostTouch_POST_TOUCH_TOV_PCT              0.105\n",
       "PostTouch_POST_TOUCH_FOULS                    1\n",
       "PostTouch_POST_TOUCH_FOULS_PCT            0.053\n",
       "Possessions_GP                               82\n",
       "Possessions_W                                50\n",
       "Possessions_L                                32\n",
       "Possessions_MIN                            1885\n",
       "Possessions_POINTS                          954\n",
       "Possessions_TOUCHES                        4345\n",
       "Possessions_FRONT_CT_TOUCHES               3941\n",
       "Possessions_TIME_OF_POSS                  375.8\n",
       "Possessions_AVG_SEC_PER_TOUCH              5.19\n",
       "Possessions_AVG_DRIB_PER_TOUCH             5.73\n",
       "Possessions_PTS_PER_TOUCH                  0.22\n",
       "Possessions_ELBOW_TOUCHES                    27\n",
       "Possessions_POST_TOUCHES                     19\n",
       "Possessions_PAINT_TOUCHES                     9\n",
       "Possessions_PTS_PER_ELBOW_TOUCH           0.333\n",
       "Possessions_PTS_PER_POST_TOUCH            0.316\n",
       "Possessions_PTS_PER_PAINT_TOUCH           0.556\n",
       "Name: 1, dtype: object"
      ]
     },
     "execution_count": 17,
     "metadata": {},
     "output_type": "execute_result"
    }
   ],
   "source": [
    "data_raw.iloc[1,]"
   ]
  },
  {
   "cell_type": "code",
   "execution_count": null,
   "metadata": {
    "collapsed": true
   },
   "outputs": [],
   "source": []
  }
 ],
 "metadata": {
  "kernelspec": {
   "display_name": "Python [conda root]",
   "language": "python",
   "name": "conda-root-py"
  },
  "language_info": {
   "codemirror_mode": {
    "name": "ipython",
    "version": 3
   },
   "file_extension": ".py",
   "mimetype": "text/x-python",
   "name": "python",
   "nbconvert_exporter": "python",
   "pygments_lexer": "ipython3",
   "version": "3.5.2"
  }
 },
 "nbformat": 4,
 "nbformat_minor": 1
}
